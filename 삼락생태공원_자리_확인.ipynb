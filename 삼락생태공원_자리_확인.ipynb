{
 "cells": [
  {
   "cell_type": "code",
   "execution_count": 5,
   "id": "animal-queen",
   "metadata": {},
   "outputs": [],
   "source": [
    "import requests\n",
    "from bs4 import BeautifulSoup\n",
    "from selenium import webdriver\n",
    "import time\n",
    "import telegram\n",
    "\n",
    "\n",
    "def telegramSendMessage(month: str, week: int, siteNumber: int, camping: str):\n",
    "    chat_token = \"1752254532:AAHM8-RftUAr3V5KRJ2SzaBp41G8JTTeHIE\"\n",
    "    bot = telegram.Bot(token=chat_token)\n",
    "    telegramMessageText = camping + ': ' + month + ' ' + str(week) + \\\n",
    "        '주차 토요일에 ' + str(siteNumber) + '개의 사이트가 생겼습니다.'\n",
    "    bot.sendMessage(chat_id=\"-564369831\", text=telegramMessageText)\n",
    "\n",
    "\n",
    "webdriver_options = webdriver.ChromeOptions()\n",
    "# webdriver_options .add_argument('headless')\n",
    "\n",
    "driver = webdriver.Chrome(\n",
    "    '/Users/WMHY/Downloads/chromedriver', options=webdriver_options)\n",
    "\n",
    "# =========================================================================\n",
    "url = 'http://www.nakdongcamping.com/reservation/real_time'\n",
    "\n",
    "driver.get(url)\n",
    "time.sleep(0.5)"
   ]
  },
  {
   "cell_type": "code",
   "execution_count": 9,
   "id": "atmospheric-toilet",
   "metadata": {},
   "outputs": [],
   "source": [
    "# 이번달\n",
    "xpath = \"//input[@id='resdate']\"\n",
    "driver.find_element_by_xpath(xpath).click()\n",
    "time.sleep(0.1)"
   ]
  },
  {
   "cell_type": "code",
   "execution_count": 10,
   "id": "infectious-korean",
   "metadata": {},
   "outputs": [],
   "source": [
    "html = driver.page_source\n",
    "soup = BeautifulSoup(html, 'html.parser')\n",
    "res = soup.select('table.ui-datepicker-calendar>tbody>tr>td')\n",
    "\n",
    "s = [6, 13, 20, 27, 34]\n",
    "\n"
   ]
  },
  {
   "cell_type": "code",
   "execution_count": null,
   "id": "second-czech",
   "metadata": {},
   "outputs": [],
   "source": [
    "for bb in s:\n",
    "    weekNumber = s.index(bb) + 1\n",
    "\n",
    "    if 'ui-state-disabled' not in res[bb]['class']:\n",
    "        xpath = \"//*[@id='ui-datepicker-div']/table/tbody/tr[\" + \\\n",
    "            str(weekNumber)+\"]/td[\"+str(bb)+\"]\"\n",
    "        driver.find_element_by_xpath(xpath).click()\n",
    "\n",
    "        html = driver.page_source\n",
    "        soup = BeautifulSoup(html, 'html.parser')\n",
    "        tagSelect = soup.select('div.click_inner')\n",
    "        res = soup.find_all('a', 'cbtn_on')"
   ]
  },
  {
   "cell_type": "code",
   "execution_count": 12,
   "id": "timely-grade",
   "metadata": {},
   "outputs": [
    {
     "name": "stdout",
     "output_type": "stream",
     "text": [
      "[<a class=\"cbtn area_a cbtn_08 cbtn_on\" href=\"\">08\n",
      "\t\t\t\t\t\t<input class=\"siteid\" type=\"hidden\" value=\"219\"/>\n",
      "<input class=\"sitetype\" type=\"hidden\" value=\"A\"/>\n",
      "<input class=\"site_price\" type=\"hidden\" value=\"25000\"/>\n",
      "</a>, <a class=\"cbtn area_b cbtn_32 cbtn_on\" href=\"\">01\n",
      "\t\t\t\t\t\t<input class=\"siteid\" type=\"hidden\" value=\"243\"/>\n",
      "<input class=\"sitetype\" type=\"hidden\" value=\"B\"/>\n",
      "<input class=\"site_price\" type=\"hidden\" value=\"25000\"/>\n",
      "</a>, <a class=\"cbtn area_b cbtn_62 cbtn_on\" href=\"\">31\n",
      "\t\t\t\t\t\t<input class=\"siteid\" type=\"hidden\" value=\"273\"/>\n",
      "<input class=\"sitetype\" type=\"hidden\" value=\"B\"/>\n",
      "<input class=\"site_price\" type=\"hidden\" value=\"25000\"/>\n",
      "</a>, <a class=\"cbtn area_c cbtn_92 cbtn_on\" href=\"\">30\n",
      "\t\t\t\t\t\t<input class=\"siteid\" type=\"hidden\" value=\"303\"/>\n",
      "<input class=\"sitetype\" type=\"hidden\" value=\"C\"/>\n",
      "<input class=\"site_price\" type=\"hidden\" value=\"15000\"/>\n",
      "</a>, <a class=\"cbtn area_c cbtn_100 cbtn_on\" href=\"\">38\n",
      "\t\t\t\t\t\t<input class=\"siteid\" type=\"hidden\" value=\"311\"/>\n",
      "<input class=\"sitetype\" type=\"hidden\" value=\"C\"/>\n",
      "<input class=\"site_price\" type=\"hidden\" value=\"15000\"/>\n",
      "</a>]\n"
     ]
    }
   ],
   "source": [
    "html = driver.page_source\n",
    "soup = BeautifulSoup(html, 'html.parser')\n",
    "tagSelect = soup.select('div.click_inner')\n",
    "res = soup.find_all('a', 'cbtn_on')\n",
    "print(res)"
   ]
  },
  {
   "cell_type": "code",
   "execution_count": 21,
   "id": "controlling-raleigh",
   "metadata": {},
   "outputs": [
    {
     "name": "stdout",
     "output_type": "stream",
     "text": [
      "[<a class=\"cbtn area_a cbtn_08 cbtn_on\" href=\"\">08\n",
      "\t\t\t\t\t\t<input class=\"siteid\" type=\"hidden\" value=\"219\"/>\n",
      "<input class=\"sitetype\" type=\"hidden\" value=\"A\"/>\n",
      "<input class=\"site_price\" type=\"hidden\" value=\"25000\"/>\n",
      "</a>, <a class=\"cbtn area_b cbtn_32 cbtn_on\" href=\"\">01\n",
      "\t\t\t\t\t\t<input class=\"siteid\" type=\"hidden\" value=\"243\"/>\n",
      "<input class=\"sitetype\" type=\"hidden\" value=\"B\"/>\n",
      "<input class=\"site_price\" type=\"hidden\" value=\"25000\"/>\n",
      "</a>, <a class=\"cbtn area_b cbtn_62 cbtn_on\" href=\"\">31\n",
      "\t\t\t\t\t\t<input class=\"siteid\" type=\"hidden\" value=\"273\"/>\n",
      "<input class=\"sitetype\" type=\"hidden\" value=\"B\"/>\n",
      "<input class=\"site_price\" type=\"hidden\" value=\"25000\"/>\n",
      "</a>, <a class=\"cbtn area_c cbtn_92 cbtn_on\" href=\"\">30\n",
      "\t\t\t\t\t\t<input class=\"siteid\" type=\"hidden\" value=\"303\"/>\n",
      "<input class=\"sitetype\" type=\"hidden\" value=\"C\"/>\n",
      "<input class=\"site_price\" type=\"hidden\" value=\"15000\"/>\n",
      "</a>, <a class=\"cbtn area_c cbtn_100 cbtn_on\" href=\"\">38\n",
      "\t\t\t\t\t\t<input class=\"siteid\" type=\"hidden\" value=\"311\"/>\n",
      "<input class=\"sitetype\" type=\"hidden\" value=\"C\"/>\n",
      "<input class=\"site_price\" type=\"hidden\" value=\"15000\"/>\n",
      "</a>]\n"
     ]
    }
   ],
   "source": [
    "print(res)"
   ]
  },
  {
   "cell_type": "code",
   "execution_count": 15,
   "id": "suspended-istanbul",
   "metadata": {
    "scrolled": true
   },
   "outputs": [
    {
     "name": "stdout",
     "output_type": "stream",
     "text": [
      "삼락캠핑장: 이번달 1주차에3개 사이트 예약 가능\n"
     ]
    }
   ],
   "source": [
    "siteInfo = []\n",
    "count = 0\n",
    "\n",
    "for title in res:\n",
    "    if \"area_c\" not in title[\"class\"]:\n",
    "        # print(title)\n",
    "        siteInfo.append(title)\n",
    "        count += 1\n",
    "\n",
    "if count > 0:\n",
    "    telegramSendMessage('이번달', weekNumber, count, '삼락캠핑장')\n",
    "    print('삼락캠핑장: 이번달 ' + str(weekNumber) +\n",
    "          '주차에' + str(count) + '개 사이트 예약 가능')\n",
    "else:\n",
    "    print('삼락캠핑장: 이번달 ' + str(weekNumber) + '주차 변동없음')"
   ]
  },
  {
   "cell_type": "code",
   "execution_count": 2,
   "id": "musical-gazette",
   "metadata": {},
   "outputs": [
    {
     "name": "stdout",
     "output_type": "stream",
     "text": [
      "1\n"
     ]
    }
   ],
   "source": [
    "a = 13 //7\n",
    "print(a)"
   ]
  },
  {
   "cell_type": "code",
   "execution_count": null,
   "id": "precise-lightning",
   "metadata": {},
   "outputs": [],
   "source": []
  }
 ],
 "metadata": {
  "kernelspec": {
   "display_name": "Python 3",
   "language": "python",
   "name": "python3"
  },
  "language_info": {
   "codemirror_mode": {
    "name": "ipython",
    "version": 3
   },
   "file_extension": ".py",
   "mimetype": "text/x-python",
   "name": "python",
   "nbconvert_exporter": "python",
   "pygments_lexer": "ipython3",
   "version": "3.9.1"
  }
 },
 "nbformat": 4,
 "nbformat_minor": 5
}
