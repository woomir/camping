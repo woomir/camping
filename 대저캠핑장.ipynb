{
 "cells": [
  {
   "cell_type": "code",
   "execution_count": 1,
   "id": "ceramic-electronics",
   "metadata": {},
   "outputs": [],
   "source": [
    "import requests\n",
    "from bs4 import BeautifulSoup\n",
    "from selenium import webdriver\n",
    "import time\n",
    "import telegram\n",
    "import random\n",
    "import datetime"
   ]
  },
  {
   "cell_type": "code",
   "execution_count": 2,
   "id": "faced-disposal",
   "metadata": {},
   "outputs": [],
   "source": [
    "def telegramSendMessage(month: str, day: str, siteNumber: int, camping: str):\n",
    "    chat_token = \"1752254532:AAHM8-RftUAr3V5KRJ2SzaBp41G8JTTeHIE\"\n",
    "    bot = telegram.Bot(token=chat_token)\n",
    "    telegramMessageText = camping + ': ' + month + ' ' + day + \\\n",
    "        '일 ' + str(siteNumber) + '개 예약 가능'\n",
    "    bot.sendMessage(chat_id=\"-564369831\", text=telegramMessageText)"
   ]
  },
  {
   "cell_type": "code",
   "execution_count": 3,
   "id": "nearby-report",
   "metadata": {},
   "outputs": [],
   "source": [
    "todayDay = datetime.datetime.now().day"
   ]
  },
  {
   "cell_type": "code",
   "execution_count": 4,
   "id": "supposed-inventory",
   "metadata": {},
   "outputs": [],
   "source": [
    "driver = webdriver.Chrome(\n",
    "#     '/home/ubuntu/chromedriver', options=webdriver_options)  # ubuntu\n",
    "'/Users/WMHY/Downloads/chromedriver')  # masOs"
   ]
  },
  {
   "cell_type": "code",
   "execution_count": 5,
   "id": "suffering-necessity",
   "metadata": {},
   "outputs": [],
   "source": [
    "url = 'https://www.daejeocamping.com/Camp.mobiz?camptype=camp01'\n",
    "driver.get(url)\n",
    "time.sleep(0.5)"
   ]
  },
  {
   "cell_type": "code",
   "execution_count": 6,
   "id": "acquired-mapping",
   "metadata": {},
   "outputs": [],
   "source": [
    "# Today를 기준으로 그 이후의 검색 가능한 주말 찾기\n",
    "xpath = \"//input[@id='resdate']\"\n",
    "driver.find_element_by_xpath(xpath).click()\n",
    "time.sleep(0.1)\n",
    "html = driver.page_source\n",
    "soup = BeautifulSoup(html, 'html.parser')\n",
    "thisCalendarInfoTd = soup.select('table.ui-datepicker-calendar>tbody>tr>td')"
   ]
  },
  {
   "cell_type": "code",
   "execution_count": 7,
   "id": "associate-validation",
   "metadata": {},
   "outputs": [],
   "source": [
    "# 이번달\n",
    "thisSatDay = []\n",
    "for j in range(1, 36):\n",
    "    if (j+1) % 7 == 0:\n",
    "        satText = thisCalendarInfoTd[j].get_text()\n",
    "        if '\\xa0' not in satText:\n",
    "            if int(satText) > todayDay:\n",
    "                thisSatDay.append(satText)\n",
    "# 이번달이 몇월인지 확인\n",
    "thisMonth = soup.select_one('span.ui-datepicker-month').get_text()"
   ]
  },
  {
   "cell_type": "code",
   "execution_count": 8,
   "id": "checked-owner",
   "metadata": {},
   "outputs": [],
   "source": [
    "# 다음달로 이동\n",
    "xpath = \"//a[@data-handler='next']\"\n",
    "driver.find_element_by_xpath(xpath).click()\n",
    "time.sleep(0.1)\n",
    "html = driver.page_source\n",
    "soup = BeautifulSoup(html, 'html.parser')\n",
    "nextCalendarInfoTd = soup.select('table.ui-datepicker-calendar>tbody>tr>td')\n",
    "\n",
    "# 다음달이 몇월인지 확인\n",
    "nextMonth = soup.select_one('span.ui-datepicker-month').get_text()"
   ]
  },
  {
   "cell_type": "code",
   "execution_count": 9,
   "id": "acute-story",
   "metadata": {},
   "outputs": [
    {
     "name": "stdout",
     "output_type": "stream",
     "text": [
      "1\n",
      "8\n",
      "15\n",
      "22\n",
      "29\n"
     ]
    }
   ],
   "source": [
    "# 다음 달\n",
    "nextSatDay = []\n",
    "satOrder = [7, 14, 21, 28, 35]\n",
    "for j in satOrder:\n",
    "    satText = nextCalendarInfoTd[j-1].get_text()\n",
    "    if '\\xa0' not in satText:\n",
    "        weekOrder = j / 7\n",
    "        xpath = \"//*[@id='ui-datepicker-div']/table/tbody/tr[\" + str(weekOrder) + \"]/td[7]/a\"\n",
    "        driver.find_element_by_xpath(xpath).click()\n",
    "        time.sleep(0.1)\n",
    "        html = driver.page_source\n",
    "        soup = BeautifulSoup(html, 'html.parser')\n",
    "        tagSelect = soup.select_one('div.reservationbox_wrap')\n",
    "        aa = tagSelect.select('fieldset.ui-state-none')\n",
    "        if len(aa) == 0:\n",
    "            nextSatDay.append(satText)\n",
    "        xpath = \"//input[@id='resdate']\"\n",
    "        driver.find_element_by_xpath(xpath).click()\n",
    "        time.sleep(0.1)\n",
    "        \n",
    "xpath = \"//a[@data-handler='prev']\"\n",
    "driver.find_element_by_xpath(xpath).click()\n",
    "time.sleep(0.1)"
   ]
  },
  {
   "cell_type": "code",
   "execution_count": 10,
   "id": "residential-ballot",
   "metadata": {},
   "outputs": [
    {
     "name": "stdout",
     "output_type": "stream",
     "text": [
      "검색할 날짜를 선택하세요.(y나 n으로 대답하세요)\n",
      "4월10일을 검색할까요?ㅜ\n",
      "잘못 입력했어요.\n",
      "4월17일을 검색할까요?y\n",
      "4월24일을 검색할까요?y\n",
      "5월1일을 검색할까요?y\n"
     ]
    }
   ],
   "source": [
    "# 이번달 반복 검색할 날짜 선택\n",
    "thisSelectDay = []\n",
    "nextSelectDay = []\n",
    "print('검색할 날짜를 선택하세요.(y나 n으로 대답하세요)')\n",
    "for i in thisSatDay:\n",
    "    answer = input(thisMonth + i + '일을 검색할까요?')\n",
    "    if 'y' in answer:\n",
    "        thisSelectDay.append(i)\n",
    "    elif 'n' in answer:\n",
    "        print('ok')\n",
    "    else:\n",
    "        print('잘못 입력했어요.')\n",
    "\n",
    "# 다음달 반복 검색할 날짜 선택\n",
    "for i in nextSatDay:\n",
    "    answer = input(nextMonth + i + '일을 검색할까요?')\n",
    "    if 'y' in answer:\n",
    "        nextSelectDay.append(i)\n",
    "    elif 'n' in answer:\n",
    "        print('ok')\n",
    "    else:\n",
    "        print('잘못 입력했어요.')"
   ]
  },
  {
   "cell_type": "code",
   "execution_count": 11,
   "id": "tutorial-mexican",
   "metadata": {},
   "outputs": [
    {
     "name": "stdout",
     "output_type": "stream",
     "text": [
      "대저캠핑장: 4월 17일 자리 없음\n",
      "대저캠핑장: 4월 24일 자리 없음\n"
     ]
    }
   ],
   "source": [
    "# 이번달\n",
    "\n",
    "sendMessageCount = 0\n",
    "for k in thisSelectDay:\n",
    "    for title in thisCalendarInfoTd:\n",
    "        if k in title.get_text():\n",
    "            arayIndex = thisCalendarInfoTd.index(title)\n",
    "            weekNumber = (arayIndex // 7) + 1\n",
    "            dayNumber = (arayIndex % 7) + 1\n",
    "\n",
    "            xpath = \"//*[@id='ui-datepicker-div']/table/tbody/tr[\" + str(weekNumber) + \"]/td[\" + str(dayNumber) + \"]/a\"\n",
    "            driver.find_element_by_xpath(xpath).click()\n",
    "            time.sleep(0.2)\n",
    "            html = driver.page_source\n",
    "            soup = BeautifulSoup(html, 'html.parser')\n",
    "            tagSelect = soup.select_one('div.reservationbox_wrap')\n",
    "            aa = tagSelect.select('fieldset>input')\n",
    "            count = 0\n",
    "            for bb in aa:\n",
    "                if not bb.has_attr(\"disabled\"):\n",
    "                    count += 1\n",
    "\n",
    "            if count > 0:\n",
    "                telegramSendMessage(thisMonth, k, count, '대저캠핑장')\n",
    "                print('대저캠핑장: ' + thisMonth + ' ' + k + '일 ' + str(count) + '개 예약 가능')\n",
    "                sendMessageCount += 1\n",
    "            else:\n",
    "                print('대저캠핑장: ' + thisMonth + ' ' + k + '일 자리 없음')\n",
    "    xpath = \"//input[@id='resdate']\"\n",
    "    driver.find_element_by_xpath(xpath).click()\n",
    "    time.sleep(0.1)"
   ]
  },
  {
   "cell_type": "code",
   "execution_count": 12,
   "id": "leading-republic",
   "metadata": {
    "scrolled": true
   },
   "outputs": [],
   "source": [
    "xpath = \"//a[@data-handler='next']\"\n",
    "driver.find_element_by_xpath(xpath).click()\n",
    "time.sleep(0.1)"
   ]
  },
  {
   "cell_type": "code",
   "execution_count": 24,
   "id": "collaborative-uniform",
   "metadata": {},
   "outputs": [
    {
     "name": "stdout",
     "output_type": "stream",
     "text": [
      "대저캠핑장: 5월 1일 자리 없음\n"
     ]
    }
   ],
   "source": [
    "# 다음달\n",
    "\n",
    "sendMessageCount = 0\n",
    "for k in nextSelectDay:\n",
    "    for title in nextCalendarInfoTd:\n",
    "        kLen = len(k)\n",
    "        titleLen = len(title.get_text())\n",
    "        if k in title.get_text() and kLen == titleLen :\n",
    "            arayIndex = nextCalendarInfoTd.index(title)\n",
    "            weekNumber = (arayIndex // 7) + 1\n",
    "            dayNumber = (arayIndex % 7) + 1\n",
    "\n",
    "            xpath = \"//*[@id='ui-datepicker-div']/table/tbody/tr[\" + str(weekNumber) + \"]/td[\" + str(dayNumber) + \"]/a\"\n",
    "            driver.find_element_by_xpath(xpath).click()\n",
    "            time.sleep(0.2)\n",
    "            html = driver.page_source\n",
    "            soup = BeautifulSoup(html, 'html.parser')\n",
    "            tagSelect = soup.select_one('div.reservationbox_wrap')\n",
    "            aa = tagSelect.select('fieldset>input')\n",
    "            count = 0\n",
    "            for bb in aa:\n",
    "                if not bb.has_attr(\"disabled\"):\n",
    "                    count += 1\n",
    "\n",
    "            if count > 0:\n",
    "                telegramSendMessage(nextMonth, k, count, '대저캠핑장')\n",
    "                print('대저캠핑장: ' + nextMonth + ' ' + k + '일 ' + str(count) + '개 예약 가능')\n",
    "                sendMessageCount += 1\n",
    "            else:\n",
    "                print('대저캠핑장: ' + nextMonth + ' ' + k + '일 자리 없음')\n",
    "    \n",
    "    xpath = \"//input[@id='resdate']\"\n",
    "    driver.find_element_by_xpath(xpath).click()\n",
    "    time.sleep(0.1)"
   ]
  },
  {
   "cell_type": "code",
   "execution_count": null,
   "id": "lovely-congo",
   "metadata": {},
   "outputs": [],
   "source": []
  }
 ],
 "metadata": {
  "kernelspec": {
   "display_name": "Python 3",
   "language": "python",
   "name": "python3"
  },
  "language_info": {
   "codemirror_mode": {
    "name": "ipython",
    "version": 3
   },
   "file_extension": ".py",
   "mimetype": "text/x-python",
   "name": "python",
   "nbconvert_exporter": "python",
   "pygments_lexer": "ipython3",
   "version": "3.9.1"
  }
 },
 "nbformat": 4,
 "nbformat_minor": 5
}
