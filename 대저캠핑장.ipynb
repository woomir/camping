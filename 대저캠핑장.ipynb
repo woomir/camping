{
 "cells": [
  {
   "cell_type": "code",
   "execution_count": 1,
   "id": "ceramic-electronics",
   "metadata": {},
   "outputs": [],
   "source": [
    "import requests\n",
    "from bs4 import BeautifulSoup\n",
    "from selenium import webdriver\n",
    "import time\n",
    "import telegram"
   ]
  },
  {
   "cell_type": "code",
   "execution_count": 2,
   "id": "faced-disposal",
   "metadata": {},
   "outputs": [],
   "source": [
    "def telegramSendMessage(month: str, week: int, siteNumber: int, camping: str):\n",
    "    chat_token = \"1752254532:AAHM8-RftUAr3V5KRJ2SzaBp41G8JTTeHIE\"\n",
    "    bot = telegram.Bot(token=chat_token)\n",
    "    telegramMessageText = camping + ': ' + month + ' ' + str(week) + \\\n",
    "        '주차 토요일에 ' + str(siteNumber) + '개의 사이트가 생겼습니다.'\n",
    "    bot.sendMessage(chat_id=\"-564369831\", text=telegramMessageText)"
   ]
  },
  {
   "cell_type": "code",
   "execution_count": 5,
   "id": "supposed-inventory",
   "metadata": {},
   "outputs": [],
   "source": [
    "driver = webdriver.Chrome(\n",
    "#     '/home/ubuntu/chromedriver', options=webdriver_options)  # ubuntu\n",
    "'/Users/WMHY/Downloads/chromedriver')  # masOs"
   ]
  },
  {
   "cell_type": "code",
   "execution_count": 6,
   "id": "suffering-necessity",
   "metadata": {},
   "outputs": [],
   "source": [
    "url = 'https://www.daejeocamping.com/Camp.mobiz?camptype=camp01'\n",
    "driver.get(url)\n",
    "time.sleep(0.5)"
   ]
  },
  {
   "cell_type": "code",
   "execution_count": 16,
   "id": "acquired-mapping",
   "metadata": {},
   "outputs": [
    {
     "name": "stdout",
     "output_type": "stream",
     "text": [
      "2\n"
     ]
    }
   ],
   "source": [
    "# Today를 기준으로 그 이후의 주말만 검색하기 / 몇주차인지 확인\n",
    "xpath = \"//input[@id='resdate']\"\n",
    "driver.find_element_by_xpath(xpath).click()\n",
    "time.sleep(0.1)\n",
    "html = driver.page_source\n",
    "soup = BeautifulSoup(html, 'html.parser')\n",
    "calendarInfoTd = soup.select('table.ui-datepicker-calendar>tbody>tr>td')\n",
    "tagNumber = 0\n",
    "_today = 1\n",
    "for tag in calendarInfoTd:\n",
    "    tagNumber += 1\n",
    "    if 'ui-datepicker-today' in tag['class']:\n",
    "        _today = (tagNumber // 7) + 1\n",
    "        print(_today)"
   ]
  },
  {
   "cell_type": "code",
   "execution_count": 9,
   "id": "tutorial-mexican",
   "metadata": {},
   "outputs": [
    {
     "name": "stdout",
     "output_type": "stream",
     "text": [
      "대저캠핑장: 이번달 2주차 변동없음\n",
      "대저캠핑장: 이번달 3주차 변동없음\n",
      "대저캠핑장: 이번달 4주차 변동없음\n"
     ]
    }
   ],
   "source": [
    "# 이번달\n",
    "for i in range(_today, 5):\n",
    "\n",
    "    xpath = \"//input[@id='resdate']\"\n",
    "    driver.find_element_by_xpath(xpath).click()\n",
    "    time.sleep(0.1)\n",
    "\n",
    "    xpath = \"//*[@id='ui-datepicker-div']/table/tbody/tr[\" + \\\n",
    "        str(i)+\"]/td[7]/a\"\n",
    "    driver.find_element_by_xpath(xpath).click()\n",
    "    time.sleep(0.2)\n",
    "\n",
    "    html = driver.page_source\n",
    "    soup = BeautifulSoup(html, 'html.parser')\n",
    "    tagSelect = soup.select_one('div.reservationbox_wrap')\n",
    "    aa = tagSelect.select('fieldset>input')\n",
    "    count = 0\n",
    "    for title in aa:\n",
    "        if not title.has_attr(\"disabled\"):\n",
    "            count += 1\n",
    "\n",
    "    if count > 0:\n",
    "        telegramSendMessage('이번달', i, count, '대저캠핑장')\n",
    "        print('대저캠핑장: 이번달 ' + str(i) + '주차에' + str(count) + '개 사이트 예약 가능')\n",
    "        sendMessageCount += 1\n",
    "    else:\n",
    "        print('대저캠핑장: 이번달 ' + str(i) + '주차 변동없음')"
   ]
  },
  {
   "cell_type": "code",
   "execution_count": 10,
   "id": "multiple-usage",
   "metadata": {},
   "outputs": [
    {
     "name": "stdout",
     "output_type": "stream",
     "text": [
      "대저캠핑장: 다음달 1주차 변동없음\n",
      "대저캠핑장: 다음달 2주차 변동없음\n",
      "대저캠핑장: 다음달 3주차 변동없음\n",
      "대저캠핑장: 다음달 4주차 변동없음\n"
     ]
    }
   ],
   "source": [
    "# 다음 달\n",
    "# nextMonthCount = []\n",
    "xpath = \"//input[@id='resdate']\"\n",
    "driver.find_element_by_xpath(xpath).click()\n",
    "time.sleep(0.1)\n",
    "\n",
    "xpath = \"//a[@data-handler='next']\"\n",
    "driver.find_element_by_xpath(xpath).click()\n",
    "time.sleep(0.1)\n",
    "\n",
    "for i in range(1, 5):  # 토요일만 사이트 체크\n",
    "\n",
    "    xpath = \"//*[@id='ui-datepicker-div']/table/tbody/tr[\" + \\\n",
    "        str(i)+\"]/td[7]/a\"\n",
    "    driver.find_element_by_xpath(xpath).click()\n",
    "    time.sleep(0.2)\n",
    "\n",
    "    html = driver.page_source\n",
    "    soup = BeautifulSoup(html, 'html.parser')\n",
    "    tagSelect = soup.select_one('div.reservationbox_wrap')\n",
    "    aa = tagSelect.select('fieldset>input')\n",
    "    count = 0\n",
    "    for title in aa:\n",
    "        if not title.has_attr(\"disabled\"):\n",
    "            count += 1\n",
    "\n",
    "    if count > 0:\n",
    "        telegramSendMessage('다음달', i, count, '대저캠핑장')\n",
    "        print('대저캠핑장: 다음달 ' + str(i) + '주차에' + str(count) + '개 사이트 예약 가능')\n",
    "        sendMessageCount += 1\n",
    "    else:\n",
    "        print('대저캠핑장: 다음달 ' + str(i) + '주차 변동없음')\n",
    "\n",
    "    xpath = \"//input[@id='resdate']\"\n",
    "    driver.find_element_by_xpath(xpath).click()\n",
    "    time.sleep(0.1)"
   ]
  },
  {
   "cell_type": "code",
   "execution_count": null,
   "id": "seven-supplier",
   "metadata": {},
   "outputs": [],
   "source": []
  }
 ],
 "metadata": {
  "kernelspec": {
   "display_name": "Python 3",
   "language": "python",
   "name": "python3"
  },
  "language_info": {
   "codemirror_mode": {
    "name": "ipython",
    "version": 3
   },
   "file_extension": ".py",
   "mimetype": "text/x-python",
   "name": "python",
   "nbconvert_exporter": "python",
   "pygments_lexer": "ipython3",
   "version": "3.9.1"
  }
 },
 "nbformat": 4,
 "nbformat_minor": 5
}
