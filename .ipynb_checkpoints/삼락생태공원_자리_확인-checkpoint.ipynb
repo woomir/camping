{
 "cells": [
  {
   "cell_type": "code",
   "execution_count": 2,
   "id": "animal-queen",
   "metadata": {},
   "outputs": [],
   "source": [
    "import requests\n",
    "from bs4 import BeautifulSoup\n",
    "from selenium import webdriver\n",
    "import time\n",
    "import telegram\n",
    "\n",
    "\n",
    "def telegramSendMessage(month: str, week: int, siteNumber: int, camping: str):\n",
    "    chat_token = \"1752254532:AAHM8-RftUAr3V5KRJ2SzaBp41G8JTTeHIE\"\n",
    "    bot = telegram.Bot(token=chat_token)\n",
    "    telegramMessageText = camping + ': ' + month + ' ' + str(week) + \\\n",
    "        '주차 토요일에 ' + str(siteNumber) + '개의 사이트가 생겼습니다.'\n",
    "    bot.sendMessage(chat_id=\"-564369831\", text=telegramMessageText)\n",
    "\n",
    "\n",
    "webdriver_options = webdriver.ChromeOptions()\n",
    "webdriver_options .add_argument('headless')\n",
    "\n",
    "driver = webdriver.Chrome(\n",
    "    '/Users/WMHY/Downloads/chromedriver', options=webdriver_options)\n",
    "\n",
    "# =========================================================================\n",
    "url = 'http://www.nakdongcamping.com/reservation/real_time'\n",
    "\n",
    "driver.get(url)\n",
    "time.sleep(0.5)"
   ]
  },
  {
   "cell_type": "code",
   "execution_count": null,
   "id": "romance-advertiser",
   "metadata": {},
   "outputs": [],
   "source": [
    "\n",
    "\n",
    "# 이번달\n",
    "xpath = \"//input[@id='resdate']\"\n",
    "driver.find_element_by_xpath(xpath).click()\n",
    "time.sleep(0.1)\n",
    "\n",
    "html = driver.page_source\n",
    "soup = BeautifulSoup(html, 'html.parser')\n",
    "res = soup.select('table.ui-datepicker-calendar>tbody>tr>td')\n",
    "\n",
    "s = [6, 13, 20, 27, 34]\n",
    "\n",
    "for bb in s:\n",
    "    weekNumber = s.index(bb) + 1\n",
    "\n",
    "    if 'ui-state-disabled' not in res[bb]['class']:\n",
    "        xpath = \"//*[@id='ui-datepicker-div']/table/tbody/tr[\" + \\\n",
    "            str(weekNumber)+\"]/td[\"+str(bb)+\"]\"\n",
    "        driver.find_element_by_xpath(xpath).click()\n",
    "\n",
    "        html = driver.page_source\n",
    "        soup = BeautifulSoup(html, 'html.parser')\n",
    "        tagSelect = soup.select('div.click_inner')\n",
    "        res = soup.find_all('a', 'cbtn_on')"
   ]
  },
  {
   "cell_type": "code",
   "execution_count": null,
   "id": "framed-azerbaijan",
   "metadata": {},
   "outputs": [],
   "source": []
  },
  {
   "cell_type": "code",
   "execution_count": 28,
   "id": "suspended-istanbul",
   "metadata": {
    "scrolled": true
   },
   "outputs": [
    {
     "name": "stdout",
     "output_type": "stream",
     "text": [
      "46\n"
     ]
    }
   ],
   "source": [
    "html = driver.page_source\n",
    "soup = BeautifulSoup(html, 'html.parser')\n",
    "tagSelect = soup.select('div.click_inner')\n",
    "res = soup.find_all('a', 'cbtn_on')\n",
    "# activeSite = res.select('a')\n",
    "# print(res[1][\"class\"])\n",
    "\n",
    "siteNumber =[]\n",
    "\n",
    "for title in res:\n",
    "    if \"area_c\" not in title[\"class\"]:\n",
    "#         print(title)\n",
    "        siteNumber.append(title)\n",
    "\n",
    "print(len(siteNumber))\n",
    "        \n",
    "\n",
    "        \n",
    "        \n",
    "# if res[1].has_attr(\"area_a\"):\n",
    "#     print('yes')\n",
    "\n",
    "# count = 0\n",
    "# for title in res:\n",
    "# #     if not title.has_attr(\"area_b\"):\n",
    "# #         count += 1\n",
    "#     print(title)\n",
    "#     print('==========================')\n",
    "\n",
    "\n",
    "# print(count)\n"
   ]
  }
 ],
 "metadata": {
  "kernelspec": {
   "display_name": "Python 3",
   "language": "python",
   "name": "python3"
  },
  "language_info": {
   "codemirror_mode": {
    "name": "ipython",
    "version": 3
   },
   "file_extension": ".py",
   "mimetype": "text/x-python",
   "name": "python",
   "nbconvert_exporter": "python",
   "pygments_lexer": "ipython3",
   "version": "3.9.1"
  }
 },
 "nbformat": 4,
 "nbformat_minor": 5
}
